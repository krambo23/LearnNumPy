{
 "cells": [
  {
   "cell_type": "markdown",
   "metadata": {},
   "source": [
    "<h1><a href=\"https://www.youtube.com/watch?v=QUT1VHiLmmI\">NumPy Tutorial</a></h1>"
   ]
  },
  {
   "cell_type": "markdown",
   "metadata": {},
   "source": [
    "<h3>Import NumPy</h3>"
   ]
  },
  {
   "cell_type": "code",
   "execution_count": 1,
   "metadata": {},
   "outputs": [],
   "source": [
    "import numpy as np"
   ]
  },
  {
   "cell_type": "markdown",
   "metadata": {},
   "source": [
    "<h3>Basics</h3>"
   ]
  },
  {
   "cell_type": "code",
   "execution_count": 2,
   "metadata": {},
   "outputs": [
    {
     "name": "stdout",
     "output_type": "stream",
     "text": [
      "[1 2 3]\n"
     ]
    }
   ],
   "source": [
    "# 1D Array\n",
    "a = np.array([1, 2, 3], dtype=np.int16)  # Specify Data Type\n",
    "print(a)"
   ]
  },
  {
   "cell_type": "code",
   "execution_count": 3,
   "metadata": {},
   "outputs": [
    {
     "name": "stdout",
     "output_type": "stream",
     "text": [
      "[[9. 8. 7.]\n",
      " [6. 5. 4.]]\n"
     ]
    }
   ],
   "source": [
    "# 2D Array\n",
    "b = np.array([[9.0, 8.0, 7.0],[6.0, 5.0, 4.0]])\n",
    "print(b)"
   ]
  },
  {
   "cell_type": "code",
   "execution_count": 4,
   "metadata": {},
   "outputs": [
    {
     "name": "stdout",
     "output_type": "stream",
     "text": [
      "1\n",
      "2\n"
     ]
    }
   ],
   "source": [
    "# Get Array Dimensions\n",
    "print(a.ndim)\n",
    "print(b.ndim)"
   ]
  },
  {
   "cell_type": "code",
   "execution_count": 5,
   "metadata": {},
   "outputs": [
    {
     "name": "stdout",
     "output_type": "stream",
     "text": [
      "(3,)\n",
      "(2, 3)\n"
     ]
    }
   ],
   "source": [
    "# Get Array Shape\n",
    "print(a.shape)\n",
    "print(b.shape)"
   ]
  },
  {
   "cell_type": "code",
   "execution_count": 6,
   "metadata": {},
   "outputs": [
    {
     "name": "stdout",
     "output_type": "stream",
     "text": [
      "int16\n",
      "float64\n"
     ]
    }
   ],
   "source": [
    "# Get Data Type\n",
    "print(a.dtype)\n",
    "print(b.dtype)"
   ]
  },
  {
   "cell_type": "code",
   "execution_count": 7,
   "metadata": {},
   "outputs": [
    {
     "name": "stdout",
     "output_type": "stream",
     "text": [
      "2\n",
      "8\n"
     ]
    }
   ],
   "source": [
    "# Get Memory Size of an Element\n",
    "print(a.itemsize)\n",
    "print(b.itemsize)"
   ]
  },
  {
   "cell_type": "code",
   "execution_count": 8,
   "metadata": {},
   "outputs": [
    {
     "name": "stdout",
     "output_type": "stream",
     "text": [
      "3\n",
      "6\n"
     ]
    }
   ],
   "source": [
    "# Get Size of Array\n",
    "print(a.size)\n",
    "print(b.size)"
   ]
  },
  {
   "cell_type": "code",
   "execution_count": 9,
   "metadata": {},
   "outputs": [
    {
     "name": "stdout",
     "output_type": "stream",
     "text": [
      "6\n",
      "48\n"
     ]
    }
   ],
   "source": [
    "# Get Size of Array (Number of Bytes)\n",
    "print(a.nbytes)  # Same as (a.size * a.itemsize)\n",
    "print(b.nbytes)"
   ]
  },
  {
   "cell_type": "markdown",
   "metadata": {},
   "source": [
    "<h3>Accessing / Updating Specific Elements</h3>"
   ]
  },
  {
   "cell_type": "code",
   "execution_count": 10,
   "metadata": {},
   "outputs": [
    {
     "name": "stdout",
     "output_type": "stream",
     "text": [
      "[[ 1  2  3  4  5  6  7]\n",
      " [ 8  9 10 11 12 13 14]]\n"
     ]
    }
   ],
   "source": [
    "# Create and Fill the Array\n",
    "a = np.array([np.arange(1, 7 + 1), np.arange(8, 14 + 1)])\n",
    "print(a)"
   ]
  },
  {
   "cell_type": "code",
   "execution_count": 11,
   "metadata": {},
   "outputs": [
    {
     "name": "stdout",
     "output_type": "stream",
     "text": [
      "13\n"
     ]
    }
   ],
   "source": [
    "# Get Specific Element [r, c]\n",
    "print(a[1, 5])"
   ]
  },
  {
   "cell_type": "code",
   "execution_count": 12,
   "metadata": {},
   "outputs": [
    {
     "name": "stdout",
     "output_type": "stream",
     "text": [
      "[1 2 3 4 5 6 7]\n"
     ]
    }
   ],
   "source": [
    "# Get Specific Row\n",
    "print(a[0, :])"
   ]
  },
  {
   "cell_type": "code",
   "execution_count": 13,
   "metadata": {},
   "outputs": [
    {
     "name": "stdout",
     "output_type": "stream",
     "text": [
      "[1 8]\n"
     ]
    }
   ],
   "source": [
    "# Get Specific Column\n",
    "print(a[:, 0])"
   ]
  },
  {
   "cell_type": "code",
   "execution_count": 14,
   "metadata": {},
   "outputs": [
    {
     "name": "stdout",
     "output_type": "stream",
     "text": [
      "[2 4 6]\n"
     ]
    }
   ],
   "source": [
    "# Grab Specific Elements\n",
    "# [start_index:end_index:step_size]\n",
    "print(a[0, 1:6:2])"
   ]
  },
  {
   "cell_type": "code",
   "execution_count": 15,
   "metadata": {},
   "outputs": [
    {
     "name": "stdout",
     "output_type": "stream",
     "text": [
      "[[ 1  2  3  4  5  6  7]\n",
      " [ 8  9 10 11 12 20 14]]\n",
      "\n",
      "[[ 1  2 25  4  5  6  7]\n",
      " [ 8  9 25 11 12 20 14]]\n",
      "\n",
      "[[  1   2  69   4   5   6   7]\n",
      " [  8   9 420  11  12  20  14]]\n",
      "\n"
     ]
    }
   ],
   "source": [
    "# Update Element(s)\n",
    "a[1, 5] = 20\n",
    "print(a)\n",
    "print()\n",
    "\n",
    "a[:, 2] = 25\n",
    "print(a)\n",
    "print()\n",
    "\n",
    "a[:, 2] = [69, 420]\n",
    "print(a)\n",
    "print()"
   ]
  },
  {
   "cell_type": "markdown",
   "metadata": {},
   "source": [
    "<h3>Initialise Different Types of Arrays</h3>"
   ]
  },
  {
   "cell_type": "code",
   "execution_count": 16,
   "metadata": {},
   "outputs": [
    {
     "name": "stdout",
     "output_type": "stream",
     "text": [
      "[0. 0. 0. 0. 0.]\n"
     ]
    }
   ],
   "source": [
    "# All 0s Matrix\n",
    "print(np.zeros(5))"
   ]
  },
  {
   "cell_type": "code",
   "execution_count": 17,
   "metadata": {},
   "outputs": [
    {
     "name": "stdout",
     "output_type": "stream",
     "text": [
      "[[1. 1. 1.]\n",
      " [1. 1. 1.]]\n"
     ]
    }
   ],
   "source": [
    "# All 1s Matrix\n",
    "print(np.ones((2, 3)))"
   ]
  },
  {
   "cell_type": "code",
   "execution_count": 18,
   "metadata": {},
   "outputs": [
    {
     "name": "stdout",
     "output_type": "stream",
     "text": [
      "[[23 23]\n",
      " [23 23]\n",
      " [23 23]\n",
      " [23 23]]\n"
     ]
    }
   ],
   "source": [
    "# Fill Matrix with Other Number\n",
    "print(np.full((4, 2), 23))"
   ]
  },
  {
   "cell_type": "code",
   "execution_count": 19,
   "metadata": {},
   "outputs": [
    {
     "name": "stdout",
     "output_type": "stream",
     "text": [
      "[23 23 23]\n"
     ]
    }
   ],
   "source": [
    "# Fill Pre Existing Matrix with Other Number\n",
    "a = np.array([69, 420, 123])\n",
    "print(np.full_like(a, 23))"
   ]
  },
  {
   "cell_type": "code",
   "execution_count": 20,
   "metadata": {},
   "outputs": [
    {
     "name": "stdout",
     "output_type": "stream",
     "text": [
      "[[0.81128729 0.77609161]\n",
      " [0.27491283 0.84046372]\n",
      " [0.08712372 0.48941418]\n",
      " [0.73295967 0.00093195]]\n",
      "\n",
      "[0.6016451  0.2431224  0.72788621]\n"
     ]
    }
   ],
   "source": [
    "# Generate Random Decimals\n",
    "print(np.random.rand(4, 2))\n",
    "print()\n",
    "\n",
    "a = np.array([69, 420, 123])\n",
    "print(np.random.random_sample(a.shape))"
   ]
  },
  {
   "cell_type": "code",
   "execution_count": 21,
   "metadata": {},
   "outputs": [
    {
     "name": "stdout",
     "output_type": "stream",
     "text": [
      "[[[6 5]\n",
      "  [4 7]\n",
      "  [5 6]\n",
      "  [5 5]]\n",
      "\n",
      " [[7 7]\n",
      "  [5 5]\n",
      "  [4 6]\n",
      "  [6 7]]\n",
      "\n",
      " [[6 6]\n",
      "  [7 6]\n",
      "  [6 6]\n",
      "  [5 6]]]\n"
     ]
    }
   ],
   "source": [
    "# Generate Random Integers\n",
    "print(np.random.randint(4, 7 + 1, size=(3, 4, 2)))"
   ]
  },
  {
   "cell_type": "code",
   "execution_count": 22,
   "metadata": {},
   "outputs": [
    {
     "name": "stdout",
     "output_type": "stream",
     "text": [
      "[[1. 0. 0. 0.]\n",
      " [0. 1. 0. 0.]\n",
      " [0. 0. 1. 0.]\n",
      " [0. 0. 0. 1.]]\n"
     ]
    }
   ],
   "source": [
    "# Identity Matrix\n",
    "print(np.identity(4))"
   ]
  },
  {
   "cell_type": "code",
   "execution_count": 23,
   "metadata": {},
   "outputs": [
    {
     "name": "stdout",
     "output_type": "stream",
     "text": [
      "[1 1 1 2 2 2 3 3 3]\n",
      "[[1 2 3]\n",
      " [1 2 3]\n",
      " [1 2 3]]\n"
     ]
    }
   ],
   "source": [
    "# Repeat Array\n",
    "a = np.array([1, 2, 3])\n",
    "print(np.repeat(a, 3))  # Default Axis is 1\n",
    "\n",
    "a = np.array([[1, 2, 3]])\n",
    "print(np.repeat(a, 3, axis=0))"
   ]
  },
  {
   "cell_type": "markdown",
   "metadata": {},
   "source": [
    "<h3><a href=\"https://youtu.be/QUT1VHiLmmI?t=1915\">Exercise at 31:55</a></h3>"
   ]
  },
  {
   "cell_type": "code",
   "execution_count": 24,
   "metadata": {},
   "outputs": [
    {
     "data": {
      "text/plain": [
       "array([[1., 1., 1., 1., 1.],\n",
       "       [1., 0., 0., 0., 1.],\n",
       "       [1., 0., 9., 0., 1.],\n",
       "       [1., 0., 0., 0., 1.],\n",
       "       [1., 1., 1., 1., 1.]])"
      ]
     },
     "execution_count": 24,
     "metadata": {},
     "output_type": "execute_result"
    }
   ],
   "source": [
    "arr_1 = np.ones((5, 5))\n",
    "arr_2 = np.zeros((3, 3))\n",
    "arr_2[1, 1] = 9\n",
    "arr_1[1:4, 1:4] = arr_2\n",
    "arr_1"
   ]
  },
  {
   "cell_type": "markdown",
   "metadata": {},
   "source": [
    "<h3>Array Copying</h3>"
   ]
  },
  {
   "cell_type": "code",
   "execution_count": 25,
   "metadata": {},
   "outputs": [
    {
     "name": "stdout",
     "output_type": "stream",
     "text": [
      "[1 2 3]\n",
      "[1 2 3]\n",
      "\n",
      "[100   2   3]\n",
      "[100   2   3]\n"
     ]
    }
   ],
   "source": [
    "# 'Copying' an Array\n",
    "a = np.array([1, 2, 3])\n",
    "b = a  # Both 'a' and 'b' are pointing to the same memory address\n",
    "print(a)\n",
    "print(b)\n",
    "print()\n",
    "\n",
    "b[0] = 100\n",
    "print(a)\n",
    "print(b)"
   ]
  },
  {
   "cell_type": "code",
   "execution_count": 26,
   "metadata": {},
   "outputs": [
    {
     "name": "stdout",
     "output_type": "stream",
     "text": [
      "Part 1\n",
      "[1 2 3]\n",
      "[1 2 3]\n",
      "\n",
      "[100   2   3]\n",
      "[100   2   3]\n",
      "\n",
      "Part 2\n",
      "[1 2 3 list([4, 5, 6])]\n",
      "[1 2 3 list([4, 5, 6])]\n",
      "\n",
      "[1 2 3 list([10, 5, 6])]\n",
      "[100 2 3 list([10, 5, 6])]\n"
     ]
    }
   ],
   "source": [
    "# Making a Shallow Copy of the Array\n",
    "# NOTE : Makes Shallow Copies of Python Objects in Array\n",
    "# NOTE : Will Result in same issues as above cells for these Objects\n",
    "\n",
    "# Part 1\n",
    "print(\"Part 1\")\n",
    "a = np.array([1, 2, 3])\n",
    "b = a  # Both 'a' and 'b' are pointing to the same memory address\n",
    "print(a)\n",
    "print(b)\n",
    "print()\n",
    "\n",
    "b[0] = 100\n",
    "print(a)\n",
    "print(b)\n",
    "print()\n",
    "\n",
    "# Part 2\n",
    "print(\"Part 2\")\n",
    "a = np.array([1, 2, 3, [4, 5, 6]], dtype=object)\n",
    "b = a.copy()\n",
    "print(a)\n",
    "print(b)\n",
    "print()\n",
    "\n",
    "b[0] = 100  # Update 1st Element of array 'b'\n",
    "b[-1][0] = 10  # Update Last Element of array 'b'\n",
    "print(a)\n",
    "print(b)"
   ]
  },
  {
   "cell_type": "code",
   "execution_count": 27,
   "metadata": {},
   "outputs": [
    {
     "name": "stdout",
     "output_type": "stream",
     "text": [
      "[1 2 3 list([4, 5, 6])]\n",
      "[1 2 3 list([4, 5, 6])]\n",
      "\n",
      "[1 2 3 list([4, 5, 6])]\n",
      "[100 2 3 list([10, 5, 6])]\n"
     ]
    }
   ],
   "source": [
    "# Making a Deep Copy of the Array\n",
    "# The issues in the previous two cells won't occur\n",
    "import copy\n",
    "\n",
    "a = np.array([1, 2, 3, [4, 5, 6]], dtype=object)\n",
    "b = copy.deepcopy(a)\n",
    "print(a)\n",
    "print(b)\n",
    "print()\n",
    "\n",
    "b[0] = 100\n",
    "b[-1][0] = 10\n",
    "print(a)\n",
    "print(b)"
   ]
  },
  {
   "cell_type": "markdown",
   "metadata": {},
   "source": [
    "<h3>Mathematics</h3>"
   ]
  },
  {
   "cell_type": "code",
   "execution_count": 28,
   "metadata": {},
   "outputs": [
    {
     "name": "stdout",
     "output_type": "stream",
     "text": [
      "[1 2 3 4]\n"
     ]
    }
   ],
   "source": [
    "a = np.array([1, 2, 3, 4])\n",
    "b = np.array([1, 0, 1, 0])\n",
    "print(a)"
   ]
  },
  {
   "cell_type": "code",
   "execution_count": 29,
   "metadata": {},
   "outputs": [
    {
     "name": "stdout",
     "output_type": "stream",
     "text": [
      "[3 4 5 6]\n",
      "[-1  0  1  2]\n",
      "[2 4 6 8]\n",
      "[0.5 1.  1.5 2. ]\n",
      "[ 1  4  9 16]\n",
      "\n",
      "[2 2 4 4]\n",
      "[0 2 2 4]\n",
      "[1 0 3 0]\n",
      "[ 1. inf  3. inf]\n",
      "\n",
      "[ 0.84147098  0.90929743  0.14112001 -0.7568025 ]\n",
      "[ 0.54030231 -0.41614684 -0.9899925  -0.65364362]\n",
      "[ 1.55740772 -2.18503986 -0.14254654  1.15782128]\n"
     ]
    },
    {
     "name": "stderr",
     "output_type": "stream",
     "text": [
      "/Users/keshav/Downloads/LearnNumPy/venv/lib/python3.7/site-packages/ipykernel_launcher.py:11: RuntimeWarning: divide by zero encountered in true_divide\n",
      "  # This is added back by InteractiveShellApp.init_path()\n"
     ]
    }
   ],
   "source": [
    "print(a + 2)\n",
    "print(a - 2)\n",
    "print(a * 2)\n",
    "print(a / 2)\n",
    "print(a ** 2)\n",
    "print()\n",
    "\n",
    "print(a + b)\n",
    "print(a - b)\n",
    "print(a * b)\n",
    "print(a / b)\n",
    "print()\n",
    "\n",
    "print(np.sin(a))\n",
    "print(np.cos(a))\n",
    "print(np.tan(a))"
   ]
  },
  {
   "cell_type": "code",
   "execution_count": 30,
   "metadata": {},
   "outputs": [
    {
     "name": "stdout",
     "output_type": "stream",
     "text": [
      "[[1. 1. 1.]\n",
      " [1. 1. 1.]]\n",
      "[[2 2]\n",
      " [2 2]\n",
      " [2 2]]\n",
      "\n",
      "[[6. 6.]\n",
      " [6. 6.]]\n"
     ]
    }
   ],
   "source": [
    "# Matrix Multiplication\n",
    "a = np.ones((2, 3))\n",
    "b = np.full((3, 2), 2)\n",
    "print(a)\n",
    "print(b)\n",
    "print()\n",
    "\n",
    "print(np.matmul(a, b))"
   ]
  },
  {
   "cell_type": "code",
   "execution_count": 31,
   "metadata": {},
   "outputs": [
    {
     "name": "stdout",
     "output_type": "stream",
     "text": [
      "1.0\n"
     ]
    }
   ],
   "source": [
    "# Determinant of Matrix\n",
    "c = np.identity(3)\n",
    "print(np.linalg.det(c))"
   ]
  },
  {
   "cell_type": "markdown",
   "metadata": {},
   "source": [
    "<h3>Statistics</h3>"
   ]
  },
  {
   "cell_type": "code",
   "execution_count": 32,
   "metadata": {},
   "outputs": [
    {
     "name": "stdout",
     "output_type": "stream",
     "text": [
      "[[1 2 3]\n",
      " [4 5 6]]\n"
     ]
    }
   ],
   "source": [
    "stats = np.array([[1, 2, 3], [4, 5, 6]])\n",
    "print(stats)"
   ]
  },
  {
   "cell_type": "code",
   "execution_count": 33,
   "metadata": {},
   "outputs": [
    {
     "name": "stdout",
     "output_type": "stream",
     "text": [
      "1\n",
      "[1 4]\n"
     ]
    }
   ],
   "source": [
    "# Smallest Value\n",
    "print(np.min(stats))\n",
    "print(np.min(stats, axis=1))"
   ]
  },
  {
   "cell_type": "code",
   "execution_count": 34,
   "metadata": {},
   "outputs": [
    {
     "name": "stdout",
     "output_type": "stream",
     "text": [
      "6\n"
     ]
    }
   ],
   "source": [
    "# Biggest Value\n",
    "print(np.max(stats))"
   ]
  },
  {
   "cell_type": "code",
   "execution_count": 35,
   "metadata": {},
   "outputs": [
    {
     "name": "stdout",
     "output_type": "stream",
     "text": [
      "21\n"
     ]
    }
   ],
   "source": [
    "# Sum of All Elements\n",
    "print(np.sum(stats))"
   ]
  },
  {
   "cell_type": "markdown",
   "metadata": {},
   "source": [
    "<h3>Reorganising Arrays</h3>"
   ]
  },
  {
   "cell_type": "code",
   "execution_count": 36,
   "metadata": {},
   "outputs": [
    {
     "name": "stdout",
     "output_type": "stream",
     "text": [
      "[[1 2 3 4]\n",
      " [5 6 7 8]]\n",
      "(2, 4)\n",
      "\n",
      "[[[1 2]\n",
      "  [3 4]]\n",
      "\n",
      " [[5 6]\n",
      "  [7 8]]]\n",
      "(2, 2, 2)\n"
     ]
    }
   ],
   "source": [
    "# Change Array Shape\n",
    "before = np.array([[1, 2, 3, 4], [5, 6, 7, 8]])\n",
    "print(before)\n",
    "print(before.shape)\n",
    "print()\n",
    "\n",
    "after = before.reshape((2, 2, 2))\n",
    "print(after)\n",
    "print(after.shape)"
   ]
  },
  {
   "cell_type": "code",
   "execution_count": 37,
   "metadata": {},
   "outputs": [
    {
     "name": "stdout",
     "output_type": "stream",
     "text": [
      "[1 2 3 4]\n",
      "[5 6 7 8]\n",
      "[[1 2 3 4]\n",
      " [5 6 7 8]]\n"
     ]
    }
   ],
   "source": [
    "# Vertically Stacking Vectors\n",
    "v1 = np.array([1, 2, 3, 4])\n",
    "v2 = np.array([5, 6, 7, 8])\n",
    "print(v1)\n",
    "print(v2)\n",
    "print(np.vstack([v1, v2]))"
   ]
  },
  {
   "cell_type": "code",
   "execution_count": 38,
   "metadata": {},
   "outputs": [
    {
     "name": "stdout",
     "output_type": "stream",
     "text": [
      "[[1. 1. 1. 1.]\n",
      " [1. 1. 1. 1.]]\n",
      "[[0. 0.]\n",
      " [0. 0.]]\n",
      "[[1. 1. 1. 1. 0. 0.]\n",
      " [1. 1. 1. 1. 0. 0.]]\n"
     ]
    }
   ],
   "source": [
    "# Horizontally Stacking Vectors\n",
    "h1 = np.ones((2, 4))\n",
    "h2 = np.zeros((2, 2))\n",
    "print(h1)\n",
    "print(h2)\n",
    "print(np.hstack([h1, h2]))"
   ]
  },
  {
   "cell_type": "markdown",
   "metadata": {},
   "source": [
    "<h3>Miscellaneous</h3>"
   ]
  },
  {
   "cell_type": "code",
   "execution_count": 39,
   "metadata": {},
   "outputs": [
    {
     "name": "stdout",
     "output_type": "stream",
     "text": [
      "[[  1.  13.  21.  11. 196.  75.   4.   3.  34.   6.   7.   8.   0.   1.\n",
      "    2.   3.   4.   5.]\n",
      " [  3.  42.  12.  33. 766.  75.   4.  55.   6.   4.   3.   4.   5.   6.\n",
      "    7.   0.  11.  12.]\n",
      " [  1.  22.  33.  11. 999.  11.   2.   1.  78.   0.   1.   2.   9.   8.\n",
      "    7.   1.  76.  88.]]\n"
     ]
    }
   ],
   "source": [
    "# Load Data From Files (w/o Pandas)\n",
    "file_data = np.genfromtxt(\"data.txt\", delimiter=\",\")\n",
    "print(file_data)"
   ]
  },
  {
   "cell_type": "code",
   "execution_count": 40,
   "metadata": {},
   "outputs": [
    {
     "name": "stdout",
     "output_type": "stream",
     "text": [
      "[[False False False False False  True False False False False False False\n",
      "  False False False False False False]\n",
      " [False False False False False  True False  True False False False False\n",
      "  False False False False False False]\n",
      " [False False False False False False False False  True False False False\n",
      "  False False False False  True  True]]\n"
     ]
    }
   ],
   "source": [
    "# Boolean Masking\n",
    "print((file_data > 50) & (file_data < 100))"
   ]
  },
  {
   "cell_type": "code",
   "execution_count": 41,
   "metadata": {},
   "outputs": [
    {
     "name": "stdout",
     "output_type": "stream",
     "text": [
      "[196.  75. 766.  75.  55. 999.  78.  76.  88.]\n"
     ]
    }
   ],
   "source": [
    "# Advanced Indexing\n",
    "print(file_data[file_data > 50])"
   ]
  },
  {
   "cell_type": "markdown",
   "metadata": {},
   "source": [
    "<h3><a href=\"https://youtu.be/QUT1VHiLmmI?t=3360\">Exercise at 56:00</a></h3>"
   ]
  },
  {
   "cell_type": "code",
   "execution_count": 42,
   "metadata": {},
   "outputs": [
    {
     "name": "stdout",
     "output_type": "stream",
     "text": [
      "[[ 1  2  3  4  5]\n",
      " [ 6  7  8  9 10]\n",
      " [11 12 13 14 15]\n",
      " [16 17 18 19 20]\n",
      " [21 22 23 24 25]\n",
      " [26 27 28 29 30]]\n"
     ]
    }
   ],
   "source": [
    "# Generate Matrix\n",
    "matrix = np.arange(1, 30 + 1)\n",
    "matrix = matrix.reshape((6, 5))\n",
    "print(matrix)"
   ]
  },
  {
   "cell_type": "code",
   "execution_count": 43,
   "metadata": {},
   "outputs": [
    {
     "name": "stdout",
     "output_type": "stream",
     "text": [
      "[[11 12]\n",
      " [16 17]]\n",
      "\n"
     ]
    }
   ],
   "source": [
    "# Question 1\n",
    "print(matrix[2:3 + 1, 0:1 + 1])\n",
    "print()"
   ]
  },
  {
   "cell_type": "code",
   "execution_count": 44,
   "metadata": {},
   "outputs": [
    {
     "name": "stdout",
     "output_type": "stream",
     "text": [
      "[ 2  8 14 20]\n",
      "[ 2  8 14 20]\n"
     ]
    }
   ],
   "source": [
    "# Question 2\n",
    "a = matrix[0:3 + 1, 1:4 + 1]\n",
    "print(np.diagonal(a))\n",
    "\n",
    "# OR\n",
    "a = matrix[[0, 1, 2, 3], [1, 2, 3, 4]]\n",
    "print(a)"
   ]
  },
  {
   "cell_type": "code",
   "execution_count": 45,
   "metadata": {},
   "outputs": [
    {
     "name": "stdout",
     "output_type": "stream",
     "text": [
      "[[ 4  5]\n",
      " [24 25]\n",
      " [29 30]]\n",
      "[[ 4  5]\n",
      " [24 25]\n",
      " [29 30]]\n"
     ]
    }
   ],
   "source": [
    "# Question 3\n",
    "b = matrix[:, 3:]\n",
    "print(b[[0, -2, -1]])\n",
    "\n",
    "# OR\n",
    "b = matrix[[0, 4, 5], 3:]\n",
    "print(b)"
   ]
  }
 ],
 "metadata": {
  "interpreter": {
   "hash": "31f2aee4e71d21fbe5cf8b01ff0e069b9275f58929596ceb00d14d90e3e16cd6"
  },
  "kernelspec": {
   "display_name": "Python 3.7.3 64-bit",
   "language": "python",
   "name": "python3"
  },
  "language_info": {
   "codemirror_mode": {
    "name": "ipython",
    "version": 3
   },
   "file_extension": ".py",
   "mimetype": "text/x-python",
   "name": "python",
   "nbconvert_exporter": "python",
   "pygments_lexer": "ipython3",
   "version": "3.7.3"
  },
  "orig_nbformat": 4
 },
 "nbformat": 4,
 "nbformat_minor": 2
}
